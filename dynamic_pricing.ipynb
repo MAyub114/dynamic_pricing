{
 "cells": [
  {
   "cell_type": "markdown",
   "metadata": {},
   "source": [
    "# Dynamic pricing\n",
    "\n",
    "* A pricing strategy that adjusts the price of a product or service in real-time\n",
    "* Based on factors:\n",
    "  * Market demand\n",
    "  * Competition\n",
    "  * Customer behaviour\n",
    "* Goal is to maximize profits \n",
    "  * By finding the optimal price point that customers are willing to pay\n",
    "  * Costs associated with producing and selling the product\n",
    "\n",
    "\n",
    "## Algorithms\n",
    "\n",
    "### Rule-based\n",
    "Uses pre-defined rules to set prices i.e. increase price if demand is high or lower price if demand is low.\n",
    "\n",
    "### Time-series forecasting\n",
    "Uses historical data to forecast future demand and adjust prices accordingly. Takes into account seasonal patterns and trends to optimize pricing.\n",
    "\n",
    "### Machine Learning algorithm\n",
    "Use historical data to learn patterns and adjust prices based on predictive models. Can include regression analysis, decision trees, and neural networks.\n",
    "\n",
    "### Reinforcement Learning algorithm\n",
    "Uses trial and error to optimize pricing. Algorithm makes decisions based on feedback from customer behaviour and ajusts prices to maximize profit.\n",
    "\n",
    "### Multi-armed bandit algorithm\n",
    "Used in situations where there are multiple products or pricing options. Uses trial and error to test different pricing strategies and learns which ones are most effective in maximizing profit.\n"
   ]
  },
  {
   "cell_type": "code",
   "execution_count": 1,
   "metadata": {},
   "outputs": [],
   "source": [
    "import pandas as pd\n",
    "import numpy as np\n",
    "from sklearn.ensemble import RandomForestRegressor\n",
    "from sklearn.model_selection import train_test_split\n",
    "from sklearn.metrics import mean_absolute_error"
   ]
  },
  {
   "cell_type": "markdown",
   "metadata": {},
   "source": [
    "### Join datasets\n",
    "\n",
    "* Brazilian E-commerce data in multiple CSVs"
   ]
  },
  {
   "cell_type": "code",
   "execution_count": 5,
   "metadata": {},
   "outputs": [],
   "source": [
    "# Read multiple CSV files\n",
    "FILE_PATH = \"/workspaces/dynamic_pricing/data/\"\n",
    "\n",
    "order_items    = pd.read_csv(FILE_PATH + \"olist_order_items_dataset.csv\")\n",
    "orders         = pd.read_csv(FILE_PATH + \"olist_orders_dataset.csv\")\n",
    "order_payments = pd.read_csv(FILE_PATH + \"olist_order_payments_dataset.csv\")\n",
    "products       = pd.read_csv(FILE_PATH + \"olist_products_dataset.csv\")\n",
    "customers      = pd.read_csv(FILE_PATH + \"olist_customers_dataset.csv\")\n",
    "sellers        = pd.read_csv(FILE_PATH + \"olist_sellers_dataset.csv\")\n",
    "product_category_translation = pd.read_csv(FILE_PATH + \"product_category_name_translation.csv\")\n",
    "\n",
    "# Merge datasets\n",
    "merged = order_items.merge(orders, on='order_id') \\\n",
    "                    .merge(order_payments, on=['order_id']) \\\n",
    "                    .merge(products, on='product_id') \\\n",
    "                    .merge(customers, on='customer_id') \\\n",
    "                    .merge(sellers, on='seller_id') \\\n",
    "                    .merge(product_category_translation, on='product_category_name')\n",
    "\n",
    "# Save the consolidated dataset to a CSV file\n",
    "merged.to_csv(FILE_PATH + 'brazilian_ecommerce_dataset.csv', index=False)"
   ]
  },
  {
   "cell_type": "code",
   "execution_count": null,
   "metadata": {},
   "outputs": [],
   "source": []
  }
 ],
 "metadata": {
  "kernelspec": {
   "display_name": "Python 3",
   "language": "python",
   "name": "python3"
  },
  "language_info": {
   "codemirror_mode": {
    "name": "ipython",
    "version": 3
   },
   "file_extension": ".py",
   "mimetype": "text/x-python",
   "name": "python",
   "nbconvert_exporter": "python",
   "pygments_lexer": "ipython3",
   "version": "3.10.8"
  },
  "orig_nbformat": 4
 },
 "nbformat": 4,
 "nbformat_minor": 2
}
